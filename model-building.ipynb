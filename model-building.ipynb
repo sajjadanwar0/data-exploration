{
 "cells": [
  {
   "cell_type": "markdown",
   "source": [
    "### Model Building\n",
    "- It is a process to create mathematical model for estimating/predicting the future behaviour   based on the past data.\n",
    "- Example: A retail bank wants to know the default behaviour of its credit card customers. They want to predict the probability of the default for each customer with in next 3 months\n",
    "- Probability of the default will lies between 0 and 1\n",
    "- Assume for the moment that every customer has a 10% of the default rate.\n",
    "So the probability for each customer for next 3 months = 0.1\n",
    "\n",
    "#### Steps of Model Building\n",
    "- Algorithm selection\n",
    "- Training Model\n",
    "- Prediction/Scoring\n",
    "\n",
    "\n",
    "\n",
    "###### Algorithm Selection\n",
    "- Have dependent variables ? --- Supervised learning problem, otherwise Un-Supervised (clustering)\n",
    "- Is dependent variable is continuous?---Regression problem (Supervised learning type) otherwise its become classification problem\n",
    "\n",
    "###### Predict the customer will buy product or not\n",
    "Common Algorithm\n",
    "- Logistic Regression\n",
    "- Decision tress\n",
    "- Random Forest\n",
    "\n",
    "###### Training the model\n",
    "It is a process to learn the relationship / correlation between independent and dependent variables\n",
    "- Dataset: Train and Test\n",
    "- Train Dataset: Past data (known dependent variable), Used to train model\n",
    "- Test Dataset: Future Data (unknown dependent variable), Used to score\n",
    "\n",
    "\n",
    "\n",
    "###### Prediction/Scoring\n",
    "It is a process to estimate/predict dependent variable of test data set by applying model rules\n"
   ],
   "metadata": {
    "collapsed": false
   }
  },
  {
   "cell_type": "code",
   "execution_count": null,
   "outputs": [],
   "source": [],
   "metadata": {
    "collapsed": false
   }
  }
 ],
 "metadata": {
  "kernelspec": {
   "display_name": "Python 3",
   "language": "python",
   "name": "python3"
  },
  "language_info": {
   "codemirror_mode": {
    "name": "ipython",
    "version": 2
   },
   "file_extension": ".py",
   "mimetype": "text/x-python",
   "name": "python",
   "nbconvert_exporter": "python",
   "pygments_lexer": "ipython2",
   "version": "2.7.6"
  }
 },
 "nbformat": 4,
 "nbformat_minor": 0
}
